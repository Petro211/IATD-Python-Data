{
 "cells": [
  {
   "cell_type": "code",
   "execution_count": 11,
   "metadata": {},
   "outputs": [
    {
     "name": "stdout",
     "output_type": "stream",
     "text": [
      "Fail\n"
     ]
    }
   ],
   "source": [
    "# grade = input(\"Please enter a grade\")  # Input reads in whatever you send it, as a string\n",
    "# grade = int(grade)\n",
    "\n",
    "grade = 40\n",
    "\n",
    "if grade < 50:\n",
    "    print(\"Fail\")\n",
    "elif grade < 100:\n",
    "    print(\"Pass\")\n",
    "else:\n",
    "    print(\"Something went wrong\")\n",
    "\n",
    "# If i enter 48, will it print Fail, Pass, or something else?\n",
    "\n",
    "# "
   ]
  },
  {
   "cell_type": "code",
   "execution_count": 14,
   "metadata": {},
   "outputs": [
    {
     "name": "stdout",
     "output_type": "stream",
     "text": [
      "HD\n",
      "P\n",
      "F\n",
      "P\n",
      "F\n",
      "HD\n",
      "F\n",
      "P\n",
      "D\n"
     ]
    }
   ],
   "source": [
    "\n",
    "# for i in range(0, len(grades)):\n",
    "#     grade = grades[i]\n",
    "def calculate_grade_letters(grades):\n",
    "    for grade in grades:\n",
    "        grade_letter = \"Invalid\"\n",
    "        if grade < 0:\n",
    "            grade_letter = \"Invalid\"\n",
    "        elif grade < 50:\n",
    "            grade_letter = \"F\"\n",
    "        elif grade < 65:\n",
    "            grade_letter = \"P\"\n",
    "        elif grade < 75:\n",
    "            grade_letter = \"CR\"\n",
    "        elif grade < 85:\n",
    "            grade_letter = \"D\"\n",
    "        elif grade <= 100:\n",
    "            grade_letter = \"HD\"\n",
    "        else:\n",
    "            grade_letter = \"Invalid\"\n",
    "        print(grade_letter)\n",
    "\n",
    "abc = [100, 58, 41, 52, 40]\n",
    "calculate_grade_letters(abc)\n",
    "\n",
    "xyz = [95, 32, 64, 78]\n",
    "calculate_grade_letters(xyz)"
   ]
  },
  {
   "cell_type": "code",
   "execution_count": null,
   "metadata": {},
   "outputs": [],
   "source": [
    "grades = [100, 58, 41, 52, 40]\n",
    "\n",
    "# for i in range(0, len(grades)):\n",
    "#     grade = grades[i]\n",
    "for grade in grades:\n",
    "    grade_letter = \"Invalid\"\n",
    "    if grade < 0:\n",
    "        grade_letter = \"Invalid\"\n",
    "    elif grade < 50:\n",
    "        grade_letter = \"F\"\n",
    "    elif grade < 65:\n",
    "        grade_letter = \"P\"\n",
    "    elif grade < 75:\n",
    "        grade_letter = \"CR\"\n",
    "    elif grade < 85:\n",
    "        grade_letter = \"D\"\n",
    "    elif grade <= 100:\n",
    "        grade_letter = \"HD\"\n",
    "    else:\n",
    "        grade_letter = \"Invalid\"\n",
    "    print(grade_letter)"
   ]
  },
  {
   "cell_type": "code",
   "execution_count": 10,
   "metadata": {},
   "outputs": [
    {
     "name": "stdout",
     "output_type": "stream",
     "text": [
      "lay\n",
      "100\n",
      "Python for Data Analytics\n",
      "85\n",
      "sami\n",
      "85\n"
     ]
    }
   ],
   "source": [
    "michaels_information = ['michael', 'lay', 85, 'comp1300']\n",
    "#                       first       last  wam   favourite course\n",
    "samis_information = ['sami', 'petro', 100, 'Python for Data Analytics']\n",
    "\n",
    "student_information = [\n",
    "    ['michael', 'lay', 85, 'comp1300'],\n",
    "    ['sami', 'petro', 100, 'Python for Data Analytics']\n",
    "]\n",
    "\n",
    "print(michaels_information[1])\n",
    "print(student_information[1][2])\n",
    "print(student_information[1][3])\n",
    "\n",
    "michaels_information = {\n",
    "    'first': 'michael', \n",
    "    'last' : 'lay', \n",
    "    'wam' : 85, \n",
    "    'favourite unit' : 'comp1300'\n",
    "}\n",
    "\n",
    "print(michaels_information['wam'])\n",
    "\n",
    "student_information = [\n",
    "    {\n",
    "        'first': 'michael', \n",
    "        'last' : 'lay', \n",
    "        'wam' : 85, \n",
    "        'favourite unit' : 'comp1300'\n",
    "    },\n",
    "    {\n",
    "        'first': 'sami', \n",
    "        'last' : 'petro', \n",
    "        'wam' : 100, \n",
    "        'favourite unit' : 'Python for Data Analytics'  \n",
    "    }\n",
    "]\n",
    "\n",
    "print(student_information[1]['first'])\n",
    "\n",
    "student_information = {\n",
    "    4812821: {\n",
    "            'first': 'michael', \n",
    "            'last' : 'lay', \n",
    "            'wam' : 85, \n",
    "            'favourite unit' : 'comp1300'\n",
    "        },\n",
    "    5123123: {\n",
    "            'first': 'sami', \n",
    "            'last' : 'petro', \n",
    "            'wam' : 100, \n",
    "            'favourite unit' : 'Python for Data Analytics'  \n",
    "        }\n",
    "}\n",
    "\n",
    "print(student_information[4812821]['wam'])\n"
   ]
  },
  {
   "cell_type": "code",
   "execution_count": null,
   "metadata": {},
   "outputs": [],
   "source": []
  }
 ],
 "metadata": {
  "kernelspec": {
   "display_name": "Python 3",
   "language": "python",
   "name": "python3"
  },
  "language_info": {
   "codemirror_mode": {
    "name": "ipython",
    "version": 3
   },
   "file_extension": ".py",
   "mimetype": "text/x-python",
   "name": "python",
   "nbconvert_exporter": "python",
   "pygments_lexer": "ipython3",
   "version": "3.9.6"
  },
  "orig_nbformat": 4
 },
 "nbformat": 4,
 "nbformat_minor": 2
}
