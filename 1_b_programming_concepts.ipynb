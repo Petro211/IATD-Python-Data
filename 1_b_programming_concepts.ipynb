{
 "cells": [
  {
   "attachments": {},
   "cell_type": "markdown",
   "metadata": {},
   "source": [
    "# Variables\n",
    "\n",
    "_Variables_ contain _values_.  Values can be different types:\n",
    "  * numbers (`int` or `float`)\n",
    "  * text (`str`)\n",
    "  * true/false (`bool`)\n",
    "\n",
    "Python keeps track of the difference between each and we can see the type using a built-in function `type`"
   ]
  },
  {
   "cell_type": "code",
   "execution_count": 2,
   "metadata": {},
   "outputs": [
    {
     "name": "stdout",
     "output_type": "stream",
     "text": [
      "<class 'int'>\n",
      "<class 'float'>\n",
      "<class 'str'>\n",
      "<class 'bool'>\n",
      "2\n"
     ]
    }
   ],
   "source": [
    "print(type(1))\n",
    "print(type(1.2))\n",
    "print(type(\"hi there\"))\n",
    "print(type(False))"
   ]
  },
  {
   "attachments": {},
   "cell_type": "markdown",
   "metadata": {},
   "source": [
    "Python also contains types for when you need many values all bundled together.\n",
    "  * a `tuple` is multiple values stuck together\n",
    "  * a `list` is a number of values all in a line\n",
    "  * a `dict`ionary is a list but every value gets a name of its own"
   ]
  },
  {
   "cell_type": "code",
   "execution_count": 9,
   "metadata": {},
   "outputs": [
    {
     "name": "stdout",
     "output_type": "stream",
     "text": [
      "<class 'tuple'>\n",
      "<class 'list'>\n",
      "<class 'dict'>\n",
      "[1, 7, 2, 9]\n",
      "[1, 7, 2, 9, 100]\n",
      "[1, 7, 2, 9, 100]\n",
      "7\n",
      "20\n"
     ]
    }
   ],
   "source": [
    "print(type((1,2)))\n",
    "print(type([1,2,3]))\n",
    "print(type({\"a\":1, \"b\":2, \"c\":3}))\n",
    "\n",
    "\n",
    "a = [1, 7, 2, 9]\n",
    " #idx 0 1  2  3\n",
    "b = (1, 7, 2, 9)\n",
    "# lists \n",
    "#  - use square brackets\n",
    "#  - can be modified\n",
    "# tuples \n",
    "#  - use curved brackets\n",
    "#  - cannot be modified\n",
    "print(a)\n",
    "a.append(100)\n",
    "print(a)\n",
    "\n",
    "print(a)\n",
    "\n",
    "# Lists and tuples have indexes\n",
    "# Indexes are how we retrieve values from the list/tuples\n",
    "# Indexes start from 0\n",
    "\n",
    "# At index 0, we have the number 1\n",
    "# At index 1, we have hte number 7\n",
    "# ...\n",
    "\n",
    "print(a[1])\n",
    "\n",
    "grades = {\n",
    "    \"michael\" : 20,\n",
    "    \"sarah\" : 99,\n",
    "    \"john\" : 50,\n",
    "}\n",
    "print(grades[\"michael\"])\n",
    "\n",
    "grades = {\n",
    "    True : \"Yes\",\n",
    "    False : \"No\"\n",
    "}\n",
    "\n",
    "\n"
   ]
  },
  {
   "attachments": {},
   "cell_type": "markdown",
   "metadata": {},
   "source": [
    "This link will show you some examples of tuples and teach you the syntax they use.  At this point you only need to be familiar with using these, we will be learning more about them as the course progresses.  However, collections such as these appear everywhere so we need to get started with them ASAP.\n",
    "\n",
    "https://www.w3schools.com/python/python_tuples.asp"
   ]
  },
  {
   "attachments": {},
   "cell_type": "markdown",
   "metadata": {},
   "source": [
    "# Activity\n",
    "\n",
    "put the values `1`, `\"a\"` and `True` into a tuple, store it in a variable, then print that variable.  You might need to carefully re-read earlier modules to fully understand what we are asking here.  You will find explanations for each concept."
   ]
  },
  {
   "cell_type": "code",
   "execution_count": 13,
   "metadata": {},
   "outputs": [
    {
     "name": "stdout",
     "output_type": "stream",
     "text": [
      "put your answer here\n"
     ]
    }
   ],
   "source": [
    "print(\"put your answer here\")\n",
    "my_tuple = (1, 'a', True)"
   ]
  },
  {
   "attachments": {},
   "cell_type": "markdown",
   "metadata": {},
   "source": [
    "This link will show you some examples of lists and teach you the syntax they use.  \n",
    "\n",
    "https://www.w3schools.com/python/python_lists.asp"
   ]
  },
  {
   "attachments": {},
   "cell_type": "markdown",
   "metadata": {},
   "source": [
    "# Activity\n",
    "\n",
    "Put the values `1`, `10`, `100`, and `1000` into a list, store that in a variable, then print the value of that variable."
   ]
  },
  {
   "cell_type": "code",
   "execution_count": 10,
   "metadata": {},
   "outputs": [
    {
     "name": "stdout",
     "output_type": "stream",
     "text": [
      "put your answer here\n"
     ]
    }
   ],
   "source": [
    "print(\"put your answer here\")\n",
    "my_list = [1, 10, 100, 1000]"
   ]
  },
  {
   "attachments": {},
   "cell_type": "markdown",
   "metadata": {},
   "source": [
    "This link will show you some examples of dictionaries and teach you the syntax they use.  \n",
    "\n",
    "https://www.w3schools.com/python/python_dictionaries.asp"
   ]
  },
  {
   "attachments": {},
   "cell_type": "markdown",
   "metadata": {},
   "source": [
    "# Activity\n",
    "\n",
    "Put the values `1`, `10`, `100`, and `1000` into a dictionary, label them \"one\", \"ten\", \"hundred\" and \"thousand\", store that in a variable, then print the value of that variable."
   ]
  },
  {
   "cell_type": "code",
   "execution_count": 11,
   "metadata": {},
   "outputs": [
    {
     "name": "stdout",
     "output_type": "stream",
     "text": [
      "put your answer here\n"
     ]
    }
   ],
   "source": [
    "print(\"put your answer here\")\n",
    "\n",
    "my_dictionary = {\n",
    "    \"one\" : 1,\n",
    "    \"ten\" : 10,\n",
    "    \"hundred\" : 100,\n",
    "    \"thousand\" : 1000,\n",
    "}"
   ]
  },
  {
   "cell_type": "markdown",
   "metadata": {},
   "source": [
    "# Variables again\n",
    "\n",
    "Variables hold values, values are put into variables with _assignment syntax_.  The name of the variable goes on the left, then a n `=`, then the value to go in the variable\n",
    "\n",
    "````\n",
    "name = 1\n",
    "````\n",
    "\n",
    "If you see a variable name anywhere _except_ the left hand side of an assignment, then the value in the variable is being _read_ instead of _written_\n",
    "\n",
    "This means you can have variables on the left _and_ right of an assignment.  The one of the left is being written, the one on the right is being read.\n",
    "\n",
    "# Exercise\n",
    "\n",
    "Put the value 1 into a variable called `myvar` without typing any extra digits in the below code cell."
   ]
  },
  {
   "cell_type": "code",
   "execution_count": 12,
   "metadata": {},
   "outputs": [
    {
     "name": "stdout",
     "output_type": "stream",
     "text": [
      "1\n"
     ]
    }
   ],
   "source": [
    "name = 1\n",
    "print(name)\n",
    "\n",
    "myvar = name\n",
    "\n",
    "# solution goes here"
   ]
  }
 ],
 "metadata": {
  "kernelspec": {
   "display_name": "Python 3",
   "language": "python",
   "name": "python3"
  },
  "language_info": {
   "codemirror_mode": {
    "name": "ipython",
    "version": 3
   },
   "file_extension": ".py",
   "mimetype": "text/x-python",
   "name": "python",
   "nbconvert_exporter": "python",
   "pygments_lexer": "ipython3",
   "version": "3.9.6"
  },
  "orig_nbformat": 4,
  "vscode": {
   "interpreter": {
    "hash": "9ac03a0a6051494cc606d484d27d20fce22fb7b4d169f583271e11d5ba46a56e"
   }
  }
 },
 "nbformat": 4,
 "nbformat_minor": 2
}
